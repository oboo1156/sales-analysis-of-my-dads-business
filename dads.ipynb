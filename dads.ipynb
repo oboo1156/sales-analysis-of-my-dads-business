{
 "cells": [
  {
   "cell_type": "code",
   "execution_count": 11,
   "metadata": {},
   "outputs": [
    {
     "data": {
      "text/html": [
       "<div>\n",
       "<style scoped>\n",
       "    .dataframe tbody tr th:only-of-type {\n",
       "        vertical-align: middle;\n",
       "    }\n",
       "\n",
       "    .dataframe tbody tr th {\n",
       "        vertical-align: top;\n",
       "    }\n",
       "\n",
       "    .dataframe thead th {\n",
       "        text-align: right;\n",
       "    }\n",
       "</style>\n",
       "<table border=\"1\" class=\"dataframe\">\n",
       "  <thead>\n",
       "    <tr style=\"text-align: right;\">\n",
       "      <th></th>\n",
       "      <th>name</th>\n",
       "      <th>year</th>\n",
       "      <th>base</th>\n",
       "      <th>container</th>\n",
       "      <th>sack_number</th>\n",
       "      <th>amount</th>\n",
       "    </tr>\n",
       "  </thead>\n",
       "  <tbody>\n",
       "    <tr>\n",
       "      <th>0</th>\n",
       "      <td>Amono</td>\n",
       "      <td>2021</td>\n",
       "      <td>Atonsu</td>\n",
       "      <td>Cheun</td>\n",
       "      <td>5</td>\n",
       "      <td>20</td>\n",
       "    </tr>\n",
       "    <tr>\n",
       "      <th>1</th>\n",
       "      <td>Nana Yaa</td>\n",
       "      <td>2021</td>\n",
       "      <td>Atonsu</td>\n",
       "      <td>Cheun</td>\n",
       "      <td>10</td>\n",
       "      <td>40</td>\n",
       "    </tr>\n",
       "    <tr>\n",
       "      <th>2</th>\n",
       "      <td>Agyara</td>\n",
       "      <td>2021</td>\n",
       "      <td>Atonsu</td>\n",
       "      <td>Cheun</td>\n",
       "      <td>20</td>\n",
       "      <td>80</td>\n",
       "    </tr>\n",
       "    <tr>\n",
       "      <th>3</th>\n",
       "      <td>Bra Mike</td>\n",
       "      <td>2021</td>\n",
       "      <td>Atonsu</td>\n",
       "      <td>Cheun</td>\n",
       "      <td>90</td>\n",
       "      <td>360</td>\n",
       "    </tr>\n",
       "    <tr>\n",
       "      <th>4</th>\n",
       "      <td>SDA</td>\n",
       "      <td>2021</td>\n",
       "      <td>Atonsu</td>\n",
       "      <td>Cheun</td>\n",
       "      <td>50</td>\n",
       "      <td>200</td>\n",
       "    </tr>\n",
       "    <tr>\n",
       "      <th>5</th>\n",
       "      <td>Akos</td>\n",
       "      <td>2021</td>\n",
       "      <td>Atonsu</td>\n",
       "      <td>Cheun</td>\n",
       "      <td>2</td>\n",
       "      <td>8</td>\n",
       "    </tr>\n",
       "  </tbody>\n",
       "</table>\n",
       "</div>"
      ],
      "text/plain": [
       "       name  year    base container  sack_number  amount\n",
       "0     Amono  2021  Atonsu     Cheun            5      20\n",
       "1  Nana Yaa  2021  Atonsu     Cheun           10      40\n",
       "2    Agyara  2021  Atonsu     Cheun           20      80\n",
       "3  Bra Mike  2021  Atonsu     Cheun           90     360\n",
       "4       SDA  2021  Atonsu     Cheun           50     200\n",
       "5      Akos  2021  Atonsu     Cheun            2       8"
      ]
     },
     "execution_count": 11,
     "metadata": {},
     "output_type": "execute_result"
    }
   ],
   "source": [
    "import pandas as pd\n",
    "\n",
    "df = pd.DataFrame({'name': ['Amono', 'Nana Yaa', 'Agyara', 'Bra Mike','SDA','Akos'],\n",
    "                   'year': [2021,2021,2021,2021,2021,2021],\n",
    "                   'base': ['Atonsu','Atonsu','Atonsu','Atonsu','Atonsu','Atonsu'],\n",
    "                   'container': ['Gua','Lafin','Cheun','Cheun','Cheun','Cheun'],\n",
    "                   'sack_number': [5,10,20,90,50,2],\n",
    "                   'amount': [20,40,80,360,200,8]})\n",
    "df"
   ]
  },
  {
   "cell_type": "code",
   "execution_count": 23,
   "metadata": {},
   "outputs": [
    {
     "data": {
      "text/plain": [
       "name\n",
       "SDA         1\n",
       "Nana Yaa    1\n",
       "Bra Mike    1\n",
       "Amono       1\n",
       "Akos        1\n",
       "Agyara      1\n",
       "dtype: int64"
      ]
     },
     "execution_count": 23,
     "metadata": {},
     "output_type": "execute_result"
    }
   ],
   "source": [
    "df.value_counts(df['name'])"
   ]
  },
  {
   "cell_type": "code",
   "execution_count": null,
   "metadata": {},
   "outputs": [],
   "source": []
  },
  {
   "cell_type": "code",
   "execution_count": null,
   "metadata": {},
   "outputs": [],
   "source": []
  },
  {
   "cell_type": "code",
   "execution_count": 27,
   "metadata": {},
   "outputs": [
    {
     "data": {
      "text/plain": [
       "<AxesSubplot:xlabel='name', ylabel='sack_number'>"
      ]
     },
     "execution_count": 27,
     "metadata": {},
     "output_type": "execute_result"
    },
    {
     "data": {
      "image/png": "[encoded data removed]",
      "text/plain": [
       "<Figure size 1080x576 with 1 Axes>"
      ]
     },
     "metadata": {
      "needs_background": "light"
     },
     "output_type": "display_data"
    }
   ],
   "source": [
    "import seaborn as sns\n",
    "import matplotlib.pyplot as plt\n",
    "plt.figure(figsize=(15,8))\n",
    "sns.barplot(x=df['name'], y=df['sack_number'])\n"
   ]
  },
  {
   "cell_type": "code",
   "execution_count": null,
   "metadata": {},
   "outputs": [],
   "source": []
  }
 ],
 "metadata": {
  "kernelspec": {
   "display_name": "Python 3",
   "language": "python",
   "name": "python3"
  },
  "language_info": {
   "codemirror_mode": {
    "name": "ipython",
    "version": 3
   },
   "file_extension": ".py",
   "mimetype": "text/x-python",
   "name": "python",
   "nbconvert_exporter": "python",
   "pygments_lexer": "ipython3",
   "version": "3.8.5"
  }
 },
 "nbformat": 4,
 "nbformat_minor": 4
}
